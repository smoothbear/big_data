{
  "nbformat": 4,
  "nbformat_minor": 0,
  "metadata": {
    "colab": {
      "name": "1. Start.ipynb",
      "provenance": [],
      "collapsed_sections": [],
      "authorship_tag": "ABX9TyMR7YfnnqjSMfUmhFZrl1HU",
      "include_colab_link": true
    },
    "kernelspec": {
      "name": "python3",
      "display_name": "Python 3"
    }
  },
  "cells": [
    {
      "cell_type": "markdown",
      "metadata": {
        "id": "view-in-github",
        "colab_type": "text"
      },
      "source": [
        "<a href=\"https://colab.research.google.com/github/smoothbear/big_data/blob/main/1.Start.ipynb\" target=\"_parent\"><img src=\"https://colab.research.google.com/assets/colab-badge.svg\" alt=\"Open In Colab\"/></a>"
      ]
    },
    {
      "cell_type": "markdown",
      "metadata": {
        "id": "xLZJx6lVIHFO"
      },
      "source": [
        "# Create"
      ]
    },
    {
      "cell_type": "markdown",
      "metadata": {
        "id": "hoxN7YuAIY7E"
      },
      "source": [
        "### Using NumPy's variety functions"
      ]
    },
    {
      "cell_type": "markdown",
      "metadata": {
        "id": "GOpvO9WvK6z1"
      },
      "source": [
        "#### ```np.array()```"
      ]
    },
    {
      "cell_type": "code",
      "metadata": {
        "colab": {
          "base_uri": "https://localhost:8080/"
        },
        "id": "3DnblvlBI29D",
        "outputId": "0e1e6df3-4498-4b48-a507-6bffef75ebf4"
      },
      "source": [
        "import numpy as np\n",
        "\n",
        "a = np.array([1, 2, 3, 4, 5, 6])\n",
        "\n",
        "print(type(a))\n",
        "print(a.ndim)\n",
        "print(a.shape)\n",
        "print(a.size)\n",
        "print(a.dtype)\n",
        "\n",
        "a"
      ],
      "execution_count": null,
      "outputs": [
        {
          "output_type": "stream",
          "text": [
            "<class 'numpy.ndarray'>\n",
            "1\n",
            "(6,)\n",
            "6\n",
            "int64\n"
          ],
          "name": "stdout"
        },
        {
          "output_type": "execute_result",
          "data": {
            "text/plain": [
              "array([1, 2, 3, 4, 5, 6])"
            ]
          },
          "metadata": {
            "tags": []
          },
          "execution_count": 2
        }
      ]
    },
    {
      "cell_type": "markdown",
      "metadata": {
        "id": "x9UAPdlnJbDX"
      },
      "source": [
        "#### ```np.arange()```\n"
      ]
    },
    {
      "cell_type": "code",
      "metadata": {
        "colab": {
          "base_uri": "https://localhost:8080/"
        },
        "id": "8ROMcfS_KkRd",
        "outputId": "befe3f1b-52db-4259-c193-feaf1d180f40"
      },
      "source": [
        "np.arange(1, 22, 2)"
      ],
      "execution_count": null,
      "outputs": [
        {
          "output_type": "execute_result",
          "data": {
            "text/plain": [
              "array([ 1,  3,  5,  7,  9, 11, 13, 15, 17, 19, 21])"
            ]
          },
          "metadata": {
            "tags": []
          },
          "execution_count": 18
        }
      ]
    },
    {
      "cell_type": "code",
      "metadata": {
        "colab": {
          "base_uri": "https://localhost:8080/"
        },
        "id": "i2etshsOLsiL",
        "outputId": "8a2c3732-60e8-4b82-ca98-93a19b08b068"
      },
      "source": [
        "np.arange(1, 22, 2) ** 2"
      ],
      "execution_count": null,
      "outputs": [
        {
          "output_type": "execute_result",
          "data": {
            "text/plain": [
              "array([  1,   9,  25,  49,  81, 121, 169, 225, 289, 361, 441])"
            ]
          },
          "metadata": {
            "tags": []
          },
          "execution_count": 17
        }
      ]
    },
    {
      "cell_type": "markdown",
      "metadata": {
        "id": "1GPcTdtHMCK4"
      },
      "source": [
        "### Using Timeit"
      ]
    },
    {
      "cell_type": "code",
      "metadata": {
        "colab": {
          "base_uri": "https://localhost:8080/"
        },
        "id": "UCo-qJ1HMh68",
        "outputId": "9490bc39-0de6-4f5b-a408-2136a723b6d8"
      },
      "source": [
        "n = 100\n",
        "print(timeit.timeit(f'x = [i**2 for i in range({n})]'))\n",
        "print(timeit.timeit(f'x = np.arange({n})**2', setup='import numpy as np'))"
      ],
      "execution_count": null,
      "outputs": [
        {
          "output_type": "stream",
          "text": [
            "24.21294088800005\n",
            "1.6875411890000578\n"
          ],
          "name": "stdout"
        }
      ]
    },
    {
      "cell_type": "markdown",
      "metadata": {
        "id": "3Rq8RmExON-n"
      },
      "source": [
        "#### Indexing and Slicing"
      ]
    },
    {
      "cell_type": "code",
      "metadata": {
        "colab": {
          "base_uri": "https://localhost:8080/"
        },
        "id": "pG-oHuIQOUXz",
        "outputId": "a6f04e81-76b5-4861-e849-34b46d8093a6"
      },
      "source": [
        "a = np.array([[1, 2, 3, 4], [5, 6, 7, 8], [9, 10, 11, 12]])\n",
        "a"
      ],
      "execution_count": null,
      "outputs": [
        {
          "output_type": "execute_result",
          "data": {
            "text/plain": [
              "array([[ 1,  2,  3,  4],\n",
              "       [ 5,  6,  7,  8],\n",
              "       [ 9, 10, 11, 12]])"
            ]
          },
          "metadata": {
            "tags": []
          },
          "execution_count": 15
        }
      ]
    },
    {
      "cell_type": "code",
      "metadata": {
        "colab": {
          "base_uri": "https://localhost:8080/"
        },
        "id": "cbOiCCRuOn_m",
        "outputId": "cc1193e6-da88-4bcb-bfa8-e67b1ef8a1e7"
      },
      "source": [
        "a[2][:]"
      ],
      "execution_count": null,
      "outputs": [
        {
          "output_type": "execute_result",
          "data": {
            "text/plain": [
              "array([ 9, 10, 11, 12])"
            ]
          },
          "metadata": {
            "tags": []
          },
          "execution_count": 14
        }
      ]
    },
    {
      "cell_type": "code",
      "metadata": {
        "colab": {
          "base_uri": "https://localhost:8080/"
        },
        "id": "s9NXOB-VPHjZ",
        "outputId": "15d494eb-853d-4960-cae8-3707c06e7f33"
      },
      "source": [
        "a[:, 0]"
      ],
      "execution_count": null,
      "outputs": [
        {
          "output_type": "execute_result",
          "data": {
            "text/plain": [
              "array([1, 5, 9])"
            ]
          },
          "metadata": {
            "tags": []
          },
          "execution_count": 19
        }
      ]
    },
    {
      "cell_type": "markdown",
      "metadata": {
        "id": "xQCOXtS7PXny"
      },
      "source": [
        "#### Deep Copy"
      ]
    },
    {
      "cell_type": "code",
      "metadata": {
        "colab": {
          "base_uri": "https://localhost:8080/"
        },
        "id": "1cPiCavDPZ8f",
        "outputId": "00ebc324-0d8b-445f-8a64-5a93937fdd73"
      },
      "source": [
        "b = a.copy()\n",
        "\n",
        "print(a)\n",
        "print(b)"
      ],
      "execution_count": null,
      "outputs": [
        {
          "output_type": "stream",
          "text": [
            "[[ 1  1  3  4]\n",
            " [ 5  1  7  8]\n",
            " [ 9  1 11 12]]\n",
            "[[ 1  2  3  4]\n",
            " [ 5  2  7  8]\n",
            " [ 9  2 11 12]]\n"
          ],
          "name": "stdout"
        }
      ]
    },
    {
      "cell_type": "markdown",
      "metadata": {
        "id": "fJyFgRanQNIg"
      },
      "source": [
        "#### Condition"
      ]
    },
    {
      "cell_type": "code",
      "metadata": {
        "id": "vjo4R1cCQOKq"
      },
      "source": [
        "seven_up = a > 7\n",
        "seven_ar = a[seven_up]"
      ],
      "execution_count": null,
      "outputs": []
    },
    {
      "cell_type": "code",
      "metadata": {
        "colab": {
          "base_uri": "https://localhost:8080/"
        },
        "id": "-0WXHPSuQrKo",
        "outputId": "b3cd2ead-bd58-4702-9c17-65a2efd9b189"
      },
      "source": [
        "condition_1 = a > 4\n",
        "condition_2 = a < 10\n",
        "\n",
        "a[condition_1 & condition_2]"
      ],
      "execution_count": null,
      "outputs": [
        {
          "output_type": "execute_result",
          "data": {
            "text/plain": [
              "array([6, 5, 6, 7, 8, 9, 6])"
            ]
          },
          "metadata": {
            "tags": []
          },
          "execution_count": 33
        }
      ]
    },
    {
      "cell_type": "markdown",
      "metadata": {
        "id": "7Y4jA3g8Q-ok"
      },
      "source": [
        "### Sort"
      ]
    },
    {
      "cell_type": "code",
      "metadata": {
        "colab": {
          "base_uri": "https://localhost:8080/"
        },
        "id": "QdsDnfpMQ_sc",
        "outputId": "8bf97c90-bdc2-4f61-d4bb-ca730f429ec9"
      },
      "source": [
        "a1 = np.array([[1, 1], [2, 2]])\n",
        "b1 = np.array([[3, 3], [4, 4]])\n",
        "\n",
        "a1\n",
        "b1"
      ],
      "execution_count": null,
      "outputs": [
        {
          "output_type": "execute_result",
          "data": {
            "text/plain": [
              "array([[3, 3],\n",
              "       [4, 4]])"
            ]
          },
          "metadata": {
            "tags": []
          },
          "execution_count": 36
        }
      ]
    }
  ]
}