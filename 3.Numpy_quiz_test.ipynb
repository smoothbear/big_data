{
  "nbformat": 4,
  "nbformat_minor": 0,
  "metadata": {
    "colab": {
      "name": "3. Numpy_quiz_test",
      "provenance": [],
      "collapsed_sections": [],
      "include_colab_link": true
    },
    "kernelspec": {
      "display_name": "Python 3",
      "language": "python",
      "name": "python3"
    }
  },
  "cells": [
    {
      "cell_type": "markdown",
      "metadata": {
        "id": "view-in-github",
        "colab_type": "text"
      },
      "source": [
        "<a href=\"https://colab.research.google.com/github/smoothbear/big_data/blob/main/3.Numpy_quiz_test.ipynb\" target=\"_parent\"><img src=\"https://colab.research.google.com/assets/colab-badge.svg\" alt=\"Open In Colab\"/></a>"
      ]
    },
    {
      "cell_type": "markdown",
      "metadata": {
        "id": "HtPwysdT8heT"
      },
      "source": [
        "#Create"
      ]
    },
    {
      "cell_type": "markdown",
      "metadata": {
        "id": "Wg_MynId1N7b"
      },
      "source": [
        "## 0 1 "
      ]
    },
    {
      "cell_type": "code",
      "metadata": {
        "id": "OUp3BBoy8heV"
      },
      "source": [
        "import numpy as np"
      ],
      "execution_count": null,
      "outputs": []
    },
    {
      "cell_type": "markdown",
      "metadata": {
        "id": "C7Kysj6y8heX"
      },
      "source": [
        "2*2 integers 다차원 배열을 초기화 하지 않은 상태로 생성하세요."
      ]
    },
    {
      "cell_type": "code",
      "metadata": {
        "id": "OtYG0tjj8heY",
        "colab": {
          "base_uri": "https://localhost:8080/"
        },
        "outputId": "956c5fb6-002b-4f5f-b245-36f0137d3745"
      },
      "source": [
        "array = np.empty((2, 2), int)\n",
        "array"
      ],
      "execution_count": null,
      "outputs": [
        {
          "output_type": "execute_result",
          "data": {
            "text/plain": [
              "array([[     94596416104512, 7955898299855142912],\n",
              "       [  36717586921579876, 7236828785387634688]])"
            ]
          },
          "metadata": {
            "tags": []
          },
          "execution_count": 9
        }
      ]
    },
    {
      "cell_type": "markdown",
      "metadata": {
        "id": "imqaV0M88hee"
      },
      "source": [
        "크기가 10인 단위행렬을 생성하세요."
      ]
    },
    {
      "cell_type": "code",
      "metadata": {
        "id": "gyIcftFt8hee",
        "colab": {
          "base_uri": "https://localhost:8080/"
        },
        "outputId": "8cb1afb0-fa86-41e7-ae3e-e5ba6642630b"
      },
      "source": [
        "array = np.eye(10)\n",
        "array"
      ],
      "execution_count": null,
      "outputs": [
        {
          "output_type": "execute_result",
          "data": {
            "text/plain": [
              "array([[1., 0., 0., 0., 0., 0., 0., 0., 0., 0.],\n",
              "       [0., 1., 0., 0., 0., 0., 0., 0., 0., 0.],\n",
              "       [0., 0., 1., 0., 0., 0., 0., 0., 0., 0.],\n",
              "       [0., 0., 0., 1., 0., 0., 0., 0., 0., 0.],\n",
              "       [0., 0., 0., 0., 1., 0., 0., 0., 0., 0.],\n",
              "       [0., 0., 0., 0., 0., 1., 0., 0., 0., 0.],\n",
              "       [0., 0., 0., 0., 0., 0., 1., 0., 0., 0.],\n",
              "       [0., 0., 0., 0., 0., 0., 0., 1., 0., 0.],\n",
              "       [0., 0., 0., 0., 0., 0., 0., 0., 1., 0.],\n",
              "       [0., 0., 0., 0., 0., 0., 0., 0., 0., 1.]])"
            ]
          },
          "metadata": {
            "tags": []
          },
          "execution_count": 10
        }
      ]
    },
    {
      "cell_type": "markdown",
      "metadata": {
        "id": "Aae3hd178heu"
      },
      "source": [
        "모든 원소가 0으로 채워진 3*2 정수형 다차원 배열을 생성하세요."
      ]
    },
    {
      "cell_type": "code",
      "metadata": {
        "id": "OkRMwppD8hev",
        "colab": {
          "base_uri": "https://localhost:8080/"
        },
        "outputId": "269c1aa9-3fbd-4041-9ec8-2f7bf3f37f71"
      },
      "source": [
        "array = np.zeros((3, 2), dtype=int)\n",
        "array"
      ],
      "execution_count": null,
      "outputs": [
        {
          "output_type": "execute_result",
          "data": {
            "text/plain": [
              "array([[0, 0],\n",
              "       [0, 0],\n",
              "       [0, 0]])"
            ]
          },
          "metadata": {
            "tags": []
          },
          "execution_count": 13
        }
      ]
    },
    {
      "cell_type": "markdown",
      "metadata": {
        "id": "bkr2PwSJ8hex"
      },
      "source": [
        "x = [0, 1, 2, 3] 정수형 배열 일 때,\n",
        "\n",
        "x와 동일한 shape의 영행렬을 생성하세요."
      ]
    },
    {
      "cell_type": "code",
      "metadata": {
        "id": "3ql8mTws8hey",
        "colab": {
          "base_uri": "https://localhost:8080/"
        },
        "outputId": "324a2b83-19db-4351-9390-b48b4d3f9fd7"
      },
      "source": [
        "x=[0,1,2,3]\n",
        "array = np.zeros_like(x)\n",
        "array"
      ],
      "execution_count": null,
      "outputs": [
        {
          "output_type": "execute_result",
          "data": {
            "text/plain": [
              "array([0, 0, 0, 0])"
            ]
          },
          "metadata": {
            "tags": []
          },
          "execution_count": 20
        }
      ]
    },
    {
      "cell_type": "markdown",
      "metadata": {
        "id": "VFRRrJ9D8hek"
      },
      "source": [
        "모든 원소가 1로 채워진 4*3 실수형 다차원 배열을 생성하세요."
      ]
    },
    {
      "cell_type": "code",
      "metadata": {
        "id": "t6vKGD938hel",
        "colab": {
          "base_uri": "https://localhost:8080/"
        },
        "outputId": "bdc9eece-0c7a-4f22-c50a-334864c52a27"
      },
      "source": [
        "array = np.ones((4, 3), dtype=float)\n",
        "array"
      ],
      "execution_count": null,
      "outputs": [
        {
          "output_type": "execute_result",
          "data": {
            "text/plain": [
              "array([[1., 1., 1.],\n",
              "       [1., 1., 1.],\n",
              "       [1., 1., 1.],\n",
              "       [1., 1., 1.]])"
            ]
          },
          "metadata": {
            "tags": []
          },
          "execution_count": 18
        }
      ]
    },
    {
      "cell_type": "markdown",
      "metadata": {
        "id": "GTVOFhzE8heo"
      },
      "source": [
        "x = [0, 1, 2, 3] 정수형 배열 일 때,\n",
        "\n",
        "X와 동일한 shape를 가지고 모든 원소가 1인 다차원 배열을 생성하세요."
      ]
    },
    {
      "cell_type": "code",
      "metadata": {
        "id": "ouBbvK7F8heo",
        "colab": {
          "base_uri": "https://localhost:8080/"
        },
        "outputId": "a7fe7cf9-476d-4e94-e389-1cb4c078f0fc"
      },
      "source": [
        "x = [0, 1, 2, 3]\n",
        "array = np.ones_like(x)\n",
        "array"
      ],
      "execution_count": null,
      "outputs": [
        {
          "output_type": "execute_result",
          "data": {
            "text/plain": [
              "array([1, 1, 1, 1])"
            ]
          },
          "metadata": {
            "tags": []
          },
          "execution_count": 21
        }
      ]
    },
    {
      "cell_type": "markdown",
      "metadata": {
        "id": "txKzANtn8he0"
      },
      "source": [
        "모든 원소가 6으로 채워진 2*5 uint형(부호없는 정수) 다차원 배열을 생성하세요."
      ]
    },
    {
      "cell_type": "code",
      "metadata": {
        "id": "t2WN64Rm8he1",
        "colab": {
          "base_uri": "https://localhost:8080/"
        },
        "outputId": "0eec258a-d230-4670-de88-292875ef3b3b"
      },
      "source": [
        "array = np.full((2, 5), 6, dtype=\"uint\")\n",
        "array"
      ],
      "execution_count": null,
      "outputs": [
        {
          "output_type": "execute_result",
          "data": {
            "text/plain": [
              "array([[6, 6, 6, 6, 6],\n",
              "       [6, 6, 6, 6, 6]], dtype=uint64)"
            ]
          },
          "metadata": {
            "tags": []
          },
          "execution_count": 28
        }
      ]
    },
    {
      "cell_type": "markdown",
      "metadata": {
        "id": "l9duF8VU8he7"
      },
      "source": [
        "x = [0, 1, 2, 3] 정수형 배열 일 때,\n",
        "\n",
        "\n",
        "x와 동일한 shape이고 모든 원소가 6인 다차원 배열을 생성하세요."
      ]
    },
    {
      "cell_type": "code",
      "metadata": {
        "id": "LSpBX7m88he8",
        "colab": {
          "base_uri": "https://localhost:8080/"
        },
        "outputId": "664770a7-1b14-4687-ba19-55ae98e502ce"
      },
      "source": [
        "x = [0, 1, 2, 3]\n",
        "array = np.full_like(x, 6)\n",
        "array"
      ],
      "execution_count": null,
      "outputs": [
        {
          "output_type": "execute_result",
          "data": {
            "text/plain": [
              "array([6, 6, 6, 6])"
            ]
          },
          "metadata": {
            "tags": []
          },
          "execution_count": 27
        }
      ]
    },
    {
      "cell_type": "code",
      "metadata": {
        "id": "yZ6VHeZr8he_",
        "colab": {
          "base_uri": "https://localhost:8080/"
        },
        "outputId": "c4876007-424a-40b4-f1a2-80e88aa0acde"
      },
      "source": [
        ""
      ],
      "execution_count": null,
      "outputs": [
        {
          "output_type": "execute_result",
          "data": {
            "text/plain": [
              "array([6, 6, 6, 6])"
            ]
          },
          "metadata": {
            "tags": []
          },
          "execution_count": 14
        }
      ]
    },
    {
      "cell_type": "markdown",
      "metadata": {
        "id": "xg4td96X8hfC"
      },
      "source": [
        "## From existing data"
      ]
    },
    {
      "cell_type": "markdown",
      "metadata": {
        "id": "_MIGNaIL8hfC"
      },
      "source": [
        "ndarray [1, 2, 3] 배열을 생성하세요"
      ]
    },
    {
      "cell_type": "code",
      "metadata": {
        "id": "3oqvdI358hfD",
        "colab": {
          "base_uri": "https://localhost:8080/"
        },
        "outputId": "d651a3b6-247f-43f8-df10-8b4acf43f771"
      },
      "source": [
        "array = np.array([1, 2, 3])\n",
        "array"
      ],
      "execution_count": null,
      "outputs": [
        {
          "output_type": "execute_result",
          "data": {
            "text/plain": [
              "array([1, 2, 3])"
            ]
          },
          "metadata": {
            "tags": []
          },
          "execution_count": 29
        }
      ]
    },
    {
      "cell_type": "markdown",
      "metadata": {
        "id": "OwM6cmNR8hfT"
      },
      "source": [
        "x = [1, 2] 일 때(python list 상태)\n",
        "\n",
        "x를 `float`형 배열로 변환하세요.(numpy ndarray)"
      ]
    },
    {
      "cell_type": "code",
      "metadata": {
        "id": "MEc-19yL8hfT",
        "colab": {
          "base_uri": "https://localhost:8080/"
        },
        "outputId": "5ddb6add-a849-4429-f5a0-5aa77378abd2"
      },
      "source": [
        "x = [1, 2]\n",
        "array = np.array(x, dtype=float)\n",
        "array"
      ],
      "execution_count": null,
      "outputs": [
        {
          "output_type": "execute_result",
          "data": {
            "text/plain": [
              "array([1., 2.])"
            ]
          },
          "metadata": {
            "tags": []
          },
          "execution_count": 31
        }
      ]
    },
    {
      "cell_type": "markdown",
      "metadata": {
        "id": "_y0ohkpy1Rxd"
      },
      "source": [
        "다시 Python List로 변환하세요"
      ]
    },
    {
      "cell_type": "code",
      "metadata": {
        "colab": {
          "base_uri": "https://localhost:8080/"
        },
        "id": "jnGwhahn1ViR",
        "outputId": "e999b9ef-25c5-49c6-9ab5-5a32109282bc"
      },
      "source": [
        "array.tolist()"
      ],
      "execution_count": null,
      "outputs": [
        {
          "output_type": "execute_result",
          "data": {
            "text/plain": [
              "[1.0, 2.0]"
            ]
          },
          "metadata": {
            "tags": []
          },
          "execution_count": 32
        }
      ]
    },
    {
      "cell_type": "markdown",
      "metadata": {
        "id": "dZ7IVtFf8hfc"
      },
      "source": [
        "## Numerical ranges"
      ]
    },
    {
      "cell_type": "markdown",
      "metadata": {
        "id": "DADUhFZj8hfd"
      },
      "source": [
        "2, 4, 6, 8, ..., 100 을 원소로 가지는 배열을 생성하세요."
      ]
    },
    {
      "cell_type": "code",
      "metadata": {
        "id": "mUouo2na8hfd",
        "colab": {
          "base_uri": "https://localhost:8080/"
        },
        "outputId": "58297713-e225-4786-a2d8-d6039770f080"
      },
      "source": [
        "array = np.array(range(2, 101, 2))\n",
        "array"
      ],
      "execution_count": null,
      "outputs": [
        {
          "output_type": "execute_result",
          "data": {
            "text/plain": [
              "array([  2,   4,   6,   8,  10,  12,  14,  16,  18,  20,  22,  24,  26,\n",
              "        28,  30,  32,  34,  36,  38,  40,  42,  44,  46,  48,  50,  52,\n",
              "        54,  56,  58,  60,  62,  64,  66,  68,  70,  72,  74,  76,  78,\n",
              "        80,  82,  84,  86,  88,  90,  92,  94,  96,  98, 100])"
            ]
          },
          "metadata": {
            "tags": []
          },
          "execution_count": 35
        }
      ]
    },
    {
      "cell_type": "markdown",
      "metadata": {
        "id": "t293PX_kylS-"
      },
      "source": [
        "리스트 내포를 사용하여 1 ~ 100 자연수 중에 3 또는 4의 배수를 출력하시오"
      ]
    },
    {
      "cell_type": "code",
      "metadata": {
        "colab": {
          "base_uri": "https://localhost:8080/"
        },
        "id": "17GYc0gzzSf7",
        "outputId": "4897f0fa-f8b8-4b14-d191-3fee29f4b375"
      },
      "source": [
        "array = [i for i in range(100) if (i % 3 == 0 or i % 4 == 0)]\n",
        "array"
      ],
      "execution_count": null,
      "outputs": [
        {
          "output_type": "execute_result",
          "data": {
            "text/plain": [
              "[0,\n",
              " 3,\n",
              " 4,\n",
              " 6,\n",
              " 8,\n",
              " 9,\n",
              " 12,\n",
              " 15,\n",
              " 16,\n",
              " 18,\n",
              " 20,\n",
              " 21,\n",
              " 24,\n",
              " 27,\n",
              " 28,\n",
              " 30,\n",
              " 32,\n",
              " 33,\n",
              " 36,\n",
              " 39,\n",
              " 40,\n",
              " 42,\n",
              " 44,\n",
              " 45,\n",
              " 48,\n",
              " 51,\n",
              " 52,\n",
              " 54,\n",
              " 56,\n",
              " 57,\n",
              " 60,\n",
              " 63,\n",
              " 64,\n",
              " 66,\n",
              " 68,\n",
              " 69,\n",
              " 72,\n",
              " 75,\n",
              " 76,\n",
              " 78,\n",
              " 80,\n",
              " 81,\n",
              " 84,\n",
              " 87,\n",
              " 88,\n",
              " 90,\n",
              " 92,\n",
              " 93,\n",
              " 96,\n",
              " 99]"
            ]
          },
          "metadata": {
            "tags": []
          },
          "execution_count": 37
        }
      ]
    },
    {
      "cell_type": "markdown",
      "metadata": {
        "id": "nz3GBp928hfg"
      },
      "source": [
        "3.0 에서 10.0 까지 50개의 원소가 균일하게 분포된 1차원 배열을 생성하세요."
      ]
    },
    {
      "cell_type": "code",
      "metadata": {
        "id": "nZiYr0UBg1ce",
        "colab": {
          "base_uri": "https://localhost:8080/"
        },
        "outputId": "56032aa5-66e5-41f5-f984-3d8c890f4a66"
      },
      "source": [
        "array = np.linspace(3.0, 10.0)\n",
        "array"
      ],
      "execution_count": null,
      "outputs": [
        {
          "output_type": "execute_result",
          "data": {
            "text/plain": [
              "array([ 3.        ,  3.14285714,  3.28571429,  3.42857143,  3.57142857,\n",
              "        3.71428571,  3.85714286,  4.        ,  4.14285714,  4.28571429,\n",
              "        4.42857143,  4.57142857,  4.71428571,  4.85714286,  5.        ,\n",
              "        5.14285714,  5.28571429,  5.42857143,  5.57142857,  5.71428571,\n",
              "        5.85714286,  6.        ,  6.14285714,  6.28571429,  6.42857143,\n",
              "        6.57142857,  6.71428571,  6.85714286,  7.        ,  7.14285714,\n",
              "        7.28571429,  7.42857143,  7.57142857,  7.71428571,  7.85714286,\n",
              "        8.        ,  8.14285714,  8.28571429,  8.42857143,  8.57142857,\n",
              "        8.71428571,  8.85714286,  9.        ,  9.14285714,  9.28571429,\n",
              "        9.42857143,  9.57142857,  9.71428571,  9.85714286, 10.        ])"
            ]
          },
          "metadata": {
            "tags": []
          },
          "execution_count": 38
        }
      ]
    },
    {
      "cell_type": "markdown",
      "metadata": {
        "id": "kssviZq7g57W"
      },
      "source": [
        "#Indexing and Slicing"
      ]
    },
    {
      "cell_type": "markdown",
      "metadata": {
        "id": "gmnGGgk9IP6C"
      },
      "source": [
        "msprint\n",
        "\n",
        "1. shape(2,2,3) 그려보세요\n",
        "\n",
        "2. shape(1,2,3,4) 그려보세요"
      ]
    },
    {
      "cell_type": "code",
      "metadata": {
        "id": "W00YdEeiIZXV",
        "colab": {
          "base_uri": "https://localhost:8080/"
        },
        "outputId": "f6f12b94-1eae-46ee-9a42-ff2b49099636"
      },
      "source": [
        "aa = [[1,2,3,4],[1,2,3,4], [1,2,3,4]]\n",
        "array = np.array(aa).reshape(2,2,3)\n",
        "array"
      ],
      "execution_count": null,
      "outputs": [
        {
          "output_type": "execute_result",
          "data": {
            "text/plain": [
              "array([[[1, 2, 3],\n",
              "        [4, 1, 2]],\n",
              "\n",
              "       [[3, 4, 1],\n",
              "        [2, 3, 4]]])"
            ]
          },
          "metadata": {
            "tags": []
          },
          "execution_count": 47
        }
      ]
    },
    {
      "cell_type": "code",
      "metadata": {
        "colab": {
          "base_uri": "https://localhost:8080/"
        },
        "id": "xCQcxipPIcSR",
        "outputId": "13f450b6-7dc0-4526-98fa-56505766f8bd"
      },
      "source": [
        "np.arange(24).reshape(1,2,3,4)"
      ],
      "execution_count": null,
      "outputs": [
        {
          "output_type": "execute_result",
          "data": {
            "text/plain": [
              "array([[[[ 0,  1,  2,  3],\n",
              "         [ 4,  5,  6,  7],\n",
              "         [ 8,  9, 10, 11]],\n",
              "\n",
              "        [[12, 13, 14, 15],\n",
              "         [16, 17, 18, 19],\n",
              "         [20, 21, 22, 23]]]])"
            ]
          },
          "metadata": {
            "tags": []
          },
          "execution_count": 115
        }
      ]
    },
    {
      "cell_type": "markdown",
      "metadata": {
        "id": "T2SdLLxCB0CT"
      },
      "source": [
        "배열 x에 1부터 50까지의 (5,2,2) 배열을 생성하시오."
      ]
    },
    {
      "cell_type": "code",
      "metadata": {
        "colab": {
          "base_uri": "https://localhost:8080/"
        },
        "id": "ohw2FYttCh__",
        "outputId": "bc34c71c-bedc-4dbc-b65a-f1b689dff22e"
      },
      "source": [
        "array=np.array(range(1, 51)).reshape(5,5,2)\n",
        "array"
      ],
      "execution_count": null,
      "outputs": [
        {
          "output_type": "execute_result",
          "data": {
            "text/plain": [
              "array([[[ 1,  2],\n",
              "        [ 3,  4],\n",
              "        [ 5,  6],\n",
              "        [ 7,  8],\n",
              "        [ 9, 10]],\n",
              "\n",
              "       [[11, 12],\n",
              "        [13, 14],\n",
              "        [15, 16],\n",
              "        [17, 18],\n",
              "        [19, 20]],\n",
              "\n",
              "       [[21, 22],\n",
              "        [23, 24],\n",
              "        [25, 26],\n",
              "        [27, 28],\n",
              "        [29, 30]],\n",
              "\n",
              "       [[31, 32],\n",
              "        [33, 34],\n",
              "        [35, 36],\n",
              "        [37, 38],\n",
              "        [39, 40]],\n",
              "\n",
              "       [[41, 42],\n",
              "        [43, 44],\n",
              "        [45, 46],\n",
              "        [47, 48],\n",
              "        [49, 50]]])"
            ]
          },
          "metadata": {
            "tags": []
          },
          "execution_count": 116
        }
      ]
    },
    {
      "cell_type": "markdown",
      "metadata": {
        "id": "1qtCAem9kiFZ"
      },
      "source": [
        "\n",
        "x 배열이 10~100까지의 실수 중 5의 배수 일 때,\n",
        "\n",
        "3차원 배열인 x를 생성하세요."
      ]
    },
    {
      "cell_type": "code",
      "metadata": {
        "id": "S1iKUIT5j-UF",
        "colab": {
          "base_uri": "https://localhost:8080/"
        },
        "outputId": "36fa9495-f3da-4d26-c986-eaaefa212136"
      },
      "source": [
        "array = np.array(range(10, 100, 5)).reshape(2, 3, 3)\n",
        "array"
      ],
      "execution_count": null,
      "outputs": [
        {
          "output_type": "execute_result",
          "data": {
            "text/plain": [
              "array([[[10, 15, 20],\n",
              "        [25, 30, 35],\n",
              "        [40, 45, 50]],\n",
              "\n",
              "       [[55, 60, 65],\n",
              "        [70, 75, 80],\n",
              "        [85, 90, 95]]])"
            ]
          },
          "metadata": {
            "tags": []
          },
          "execution_count": 59
        }
      ]
    },
    {
      "cell_type": "markdown",
      "metadata": {
        "id": "aWy6jzB7DAti"
      },
      "source": [
        "위의 x에서 10이상 20미만을 인덱싱하시오."
      ]
    },
    {
      "cell_type": "code",
      "metadata": {
        "id": "9xCjP2lGB-Rh",
        "colab": {
          "base_uri": "https://localhost:8080/"
        },
        "outputId": "5c870469-384a-4083-8d23-04ec307e06dd"
      },
      "source": [
        "array[(array >= 10) & (array < 20)]"
      ],
      "execution_count": null,
      "outputs": [
        {
          "output_type": "execute_result",
          "data": {
            "text/plain": [
              "array([10, 15])"
            ]
          },
          "metadata": {
            "tags": []
          },
          "execution_count": 73
        }
      ]
    },
    {
      "cell_type": "code",
      "metadata": {
        "colab": {
          "base_uri": "https://localhost:8080/"
        },
        "id": "ayUHsooJCROD",
        "outputId": "ef9edaa6-e6f6-4d33-cad1-372ee09476e9"
      },
      "source": [
        ""
      ],
      "execution_count": null,
      "outputs": [
        {
          "output_type": "execute_result",
          "data": {
            "text/plain": [
              "array([[[10, 15, 20],\n",
              "        [25, 30, 35],\n",
              "        [40, 45, 50]],\n",
              "\n",
              "       [[55, 60, 65],\n",
              "        [70, 75, 80],\n",
              "        [85, 90, 95]]])"
            ]
          },
          "metadata": {
            "tags": []
          },
          "execution_count": 74
        }
      ]
    },
    {
      "cell_type": "code",
      "metadata": {
        "id": "syls_rLzg8Pf"
      },
      "source": [
        ""
      ],
      "execution_count": null,
      "outputs": []
    },
    {
      "cell_type": "markdown",
      "metadata": {
        "id": "DIqaf2h8hBpo"
      },
      "source": [
        "Q1. \n",
        "\n",
        "x가 10x10x3의 다차원 배열일때,\n",
        "\n",
        "x의 두번째 차원이 150인 2차원 배열이 되도록 reshape하세요."
      ]
    },
    {
      "cell_type": "code",
      "metadata": {
        "id": "ECbNLWcOhEdL",
        "colab": {
          "base_uri": "https://localhost:8080/"
        },
        "outputId": "58da870d-65af-496a-91bd-db4aecc5e315"
      },
      "source": [
        "np.ones([10,10,3]).reshape(10, 10, 3).reshape(2, 150)"
      ],
      "execution_count": null,
      "outputs": [
        {
          "output_type": "execute_result",
          "data": {
            "text/plain": [
              "array([[1., 1., 1., 1., 1., 1., 1., 1., 1., 1., 1., 1., 1., 1., 1., 1.,\n",
              "        1., 1., 1., 1., 1., 1., 1., 1., 1., 1., 1., 1., 1., 1., 1., 1.,\n",
              "        1., 1., 1., 1., 1., 1., 1., 1., 1., 1., 1., 1., 1., 1., 1., 1.,\n",
              "        1., 1., 1., 1., 1., 1., 1., 1., 1., 1., 1., 1., 1., 1., 1., 1.,\n",
              "        1., 1., 1., 1., 1., 1., 1., 1., 1., 1., 1., 1., 1., 1., 1., 1.,\n",
              "        1., 1., 1., 1., 1., 1., 1., 1., 1., 1., 1., 1., 1., 1., 1., 1.,\n",
              "        1., 1., 1., 1., 1., 1., 1., 1., 1., 1., 1., 1., 1., 1., 1., 1.,\n",
              "        1., 1., 1., 1., 1., 1., 1., 1., 1., 1., 1., 1., 1., 1., 1., 1.,\n",
              "        1., 1., 1., 1., 1., 1., 1., 1., 1., 1., 1., 1., 1., 1., 1., 1.,\n",
              "        1., 1., 1., 1., 1., 1.],\n",
              "       [1., 1., 1., 1., 1., 1., 1., 1., 1., 1., 1., 1., 1., 1., 1., 1.,\n",
              "        1., 1., 1., 1., 1., 1., 1., 1., 1., 1., 1., 1., 1., 1., 1., 1.,\n",
              "        1., 1., 1., 1., 1., 1., 1., 1., 1., 1., 1., 1., 1., 1., 1., 1.,\n",
              "        1., 1., 1., 1., 1., 1., 1., 1., 1., 1., 1., 1., 1., 1., 1., 1.,\n",
              "        1., 1., 1., 1., 1., 1., 1., 1., 1., 1., 1., 1., 1., 1., 1., 1.,\n",
              "        1., 1., 1., 1., 1., 1., 1., 1., 1., 1., 1., 1., 1., 1., 1., 1.,\n",
              "        1., 1., 1., 1., 1., 1., 1., 1., 1., 1., 1., 1., 1., 1., 1., 1.,\n",
              "        1., 1., 1., 1., 1., 1., 1., 1., 1., 1., 1., 1., 1., 1., 1., 1.,\n",
              "        1., 1., 1., 1., 1., 1., 1., 1., 1., 1., 1., 1., 1., 1., 1., 1.,\n",
              "        1., 1., 1., 1., 1., 1.]])"
            ]
          },
          "metadata": {
            "tags": []
          },
          "execution_count": 117
        }
      ]
    },
    {
      "cell_type": "markdown",
      "metadata": {
        "id": "F9rp5_4ZhKAk"
      },
      "source": [
        "Q2. \n",
        "\n",
        "x = [[1, 2, 3], [4, 5, 6]] 일 때,\n",
        "\n",
        "[1, 2, 3, 4, 5, 6]로 변환하세요."
      ]
    },
    {
      "cell_type": "code",
      "metadata": {
        "id": "9gwCiPw8hL4f",
        "colab": {
          "base_uri": "https://localhost:8080/"
        },
        "outputId": "960331f8-4312-4568-ca88-0ab30a0b0ab4"
      },
      "source": [
        "x = np.array([[1,2,3], [4,5,6])"
      ],
      "execution_count": null,
      "outputs": [
        {
          "output_type": "execute_result",
          "data": {
            "text/plain": [
              "array([1, 2, 3, 4, 5, 6])"
            ]
          },
          "metadata": {
            "tags": []
          },
          "execution_count": 78
        }
      ]
    },
    {
      "cell_type": "code",
      "metadata": {
        "id": "2RFPmflIjZo9",
        "colab": {
          "base_uri": "https://localhost:8080/"
        },
        "outputId": "aad3a58b-94be-4aa6-ef7a-80dbda65ee76"
      },
      "source": [
        "x = np."
      ],
      "execution_count": null,
      "outputs": [
        {
          "output_type": "execute_result",
          "data": {
            "text/plain": [
              "array([1, 2, 3, 4, 5, 6])"
            ]
          },
          "metadata": {
            "tags": []
          },
          "execution_count": 71
        }
      ]
    },
    {
      "cell_type": "markdown",
      "metadata": {
        "id": "z_9IQX92hgLx"
      },
      "source": [
        "Q3. \n",
        "\n",
        "x = [[1, 2, 3], [4, 5, 6]]\n",
        "\n",
        "y = [[7, 8, 9], [10, 11, 12]] 일 때,\n",
        "\n",
        "x와 y를 연결해서 [[1, 2, 3, 7, 8, 9], [4, 5, 6, 10, 11, 12]]를 만드세요\n"
      ]
    },
    {
      "cell_type": "code",
      "metadata": {
        "id": "S7jjkOVOhmaa",
        "colab": {
          "base_uri": "https://localhost:8080/"
        },
        "outputId": "27f06e4d-ebd4-46dc-e25c-402af0671b19"
      },
      "source": [
        "x = np.array([[1,2,3], [4,5,6]])\n",
        "y = np.array([[7,8,9], [10,11,12]])\n",
        "\n",
        "a = np.concatenate((x, y), 1)\n",
        "a"
      ],
      "execution_count": 130,
      "outputs": [
        {
          "output_type": "execute_result",
          "data": {
            "text/plain": [
              "array([[ 1,  2,  3,  7,  8,  9],\n",
              "       [ 4,  5,  6, 10, 11, 12]])"
            ]
          },
          "metadata": {
            "tags": []
          },
          "execution_count": 130
        }
      ]
    },
    {
      "cell_type": "code",
      "metadata": {
        "id": "XvbLdvDInzzT"
      },
      "source": [
        ""
      ],
      "execution_count": null,
      "outputs": []
    },
    {
      "cell_type": "markdown",
      "metadata": {
        "id": "fkm6sLjKiFLu"
      },
      "source": [
        "Q4. \n",
        "\n",
        "x = [0, 1, 2]일 때, \n",
        "\n",
        "[0, 0, 1, 1, 2, 2]를 생성하세요."
      ]
    },
    {
      "cell_type": "code",
      "metadata": {
        "id": "z5cmj6HCiG7x",
        "colab": {
          "base_uri": "https://localhost:8080/"
        },
        "outputId": "5ea851ed-e5e5-46e6-e6b2-b4cd899d05fc"
      },
      "source": [
        "x = [0,1,2]\n",
        "x = np.array(x+x)\n",
        "x.sort()\n",
        "x"
      ],
      "execution_count": null,
      "outputs": [
        {
          "output_type": "execute_result",
          "data": {
            "text/plain": [
              "array([0, 0, 1, 1, 2, 2])"
            ]
          },
          "metadata": {
            "tags": []
          },
          "execution_count": 110
        }
      ]
    },
    {
      "cell_type": "code",
      "metadata": {
        "id": "7xn4_PNoiIIn",
        "colab": {
          "base_uri": "https://localhost:8080/"
        },
        "outputId": "941fdc1f-a02d-4bdc-f301-2fda19f7b0c0"
      },
      "source": [
        ""
      ],
      "execution_count": null,
      "outputs": [
        {
          "output_type": "execute_result",
          "data": {
            "text/plain": [
              "array([0, 0, 1, 1, 2, 2])"
            ]
          },
          "metadata": {
            "tags": []
          },
          "execution_count": 90
        }
      ]
    },
    {
      "cell_type": "markdown",
      "metadata": {
        "id": "6RjqJQuviLH3"
      },
      "source": [
        "Q5.\n",
        "\n",
        "x = [0, 0, 0, 1, 2, 3, 0, 2, 1, 0]일 때,\n",
        "\n",
        "앞, 뒤의 0을 제거하세요."
      ]
    },
    {
      "cell_type": "code",
      "metadata": {
        "id": "Z-h-0C6diN4F",
        "colab": {
          "base_uri": "https://localhost:8080/"
        },
        "outputId": "ce42ca15-a23c-4eb8-cc52-f2493caf2a16"
      },
      "source": [
        "x = [0, 0, 0, 1, 2, 3, 0, 2, 1, 0]\n",
        "np.delete(x, 0,)"
      ],
      "execution_count": null,
      "outputs": [
        {
          "output_type": "execute_result",
          "data": {
            "text/plain": [
              "array([0, 0, 1, 2, 3, 0, 2, 1, 0])"
            ]
          },
          "metadata": {
            "tags": []
          },
          "execution_count": 114
        }
      ]
    },
    {
      "cell_type": "code",
      "metadata": {
        "id": "y9M-XE8q4W7b",
        "colab": {
          "base_uri": "https://localhost:8080/"
        },
        "outputId": "f7034e90-d8ce-42af-9cd0-60a21d777926"
      },
      "source": [
        ""
      ],
      "execution_count": null,
      "outputs": [
        {
          "output_type": "execute_result",
          "data": {
            "text/plain": [
              "array([1, 2, 3, 0, 2, 1])"
            ]
          },
          "metadata": {
            "tags": []
          },
          "execution_count": 93
        }
      ]
    }
  ]
}